{
 "cells": [
  {
   "cell_type": "code",
   "execution_count": null,
   "metadata": {},
   "outputs": [],
   "source": [
    "net.eval()\n",
    "with torch.inference_mode():\n",
    "    _, pred, _ = net(image_batch)\n",
    "    reconstructed = net.unpatchify(pred)\n",
    "    plot_reconstructed(image_batch, reconstructed)"
   ]
  },
  {
   "cell_type": "code",
   "execution_count": null,
   "metadata": {},
   "outputs": [],
   "source": []
  },
  {
   "cell_type": "code",
   "execution_count": null,
   "metadata": {},
   "outputs": [],
   "source": []
  },
  {
   "cell_type": "code",
   "execution_count": null,
   "metadata": {},
   "outputs": [],
   "source": [
    "# import torch\n",
    "# import torchinfo\n",
    "\n",
    "\n",
    "# net = MaskedAutoencoder()\n",
    "\n",
    "# input_size = (10, 3, 32, 32)\n",
    "# torchinfo.summary(net, input_size)"
   ]
  }
 ],
 "metadata": {
  "language_info": {
   "name": "python"
  },
  "orig_nbformat": 4
 },
 "nbformat": 4,
 "nbformat_minor": 2
}
