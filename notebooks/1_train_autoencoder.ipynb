{
 "cells": [
  {
   "cell_type": "code",
   "execution_count": 1,
   "metadata": {},
   "outputs": [],
   "source": [
    "# !git clone \"https://github.com/axchizhov/masked_autoencoder\""
   ]
  },
  {
   "cell_type": "code",
   "execution_count": 2,
   "metadata": {},
   "outputs": [],
   "source": [
    "# %cd masked_autoencoder\n",
    "# !pip install -e ."
   ]
  },
  {
   "cell_type": "markdown",
   "metadata": {},
   "source": [
    "## Hyperparameters"
   ]
  },
  {
   "cell_type": "code",
   "execution_count": 2,
   "metadata": {},
   "outputs": [],
   "source": [
    "BATCH_SIZE = 256\n",
    "LR = 1e-5\n",
    "BETAS = (0.9, 0.95)\n",
    "NUM_EPOCHS = 100\n",
    "\n",
    "IMAGE_SIZE = 32\n",
    "PATCH_SIZE = 8\n",
    "NUM_PATCHES = (IMAGE_SIZE // PATCH_SIZE) ** 2\n",
    "IN_CHANS = 3\n",
    "\n",
    "ENCODER_EMBED_DIM = 128\n",
    "ENCODER_NUM_HEADS = 4\n",
    "ENCODER_DEPTH = 6\n",
    "\n",
    "DECODER_EMBED_DIM = 64\n",
    "DECODR_NUM_HEADS = 4\n",
    "DECODER_DEPTH = 2\n",
    "\n",
    "SEED = 42"
   ]
  },
  {
   "cell_type": "markdown",
   "metadata": {},
   "source": [
    "# Preapre data"
   ]
  },
  {
   "cell_type": "code",
   "execution_count": 3,
   "metadata": {},
   "outputs": [
    {
     "name": "stdout",
     "output_type": "stream",
     "text": [
      "Files already downloaded and verified\n",
      "Files already downloaded and verified\n",
      "Files already downloaded and verified\n"
     ]
    }
   ],
   "source": [
    "import torch\n",
    "import torchvision.transforms as T\n",
    "\n",
    "from torchvision.datasets import CIFAR10\n",
    "from torch.utils.data import DataLoader\n",
    "\n",
    "torch.manual_seed(SEED)\n",
    "\n",
    "# TODO: fix dataset loading\n",
    "# TODO: add augmentations\n",
    "\n",
    "train_data = CIFAR10('../data/', train=True, download=True, transform=T.ToTensor())\n",
    "# train_data = train_data[:40000]\n",
    "\n",
    "valid_data = CIFAR10('../data/', train=True, download=True, transform=T.ToTensor())\n",
    "# valid_data = valid_data[40000:]\n",
    "\n",
    "test_data = CIFAR10('../data/', train=False, download=True, transform=T.ToTensor())\n",
    "\n",
    "train_dataloader = DataLoader(dataset=train_data, batch_size=BATCH_SIZE, shuffle=True, drop_last=True)\n",
    "valid_dataloader = DataLoader(dataset=valid_data, batch_size=BATCH_SIZE, shuffle=False, drop_last=True)\n",
    "test_dataloader = DataLoader(dataset=test_data, batch_size=BATCH_SIZE, shuffle=False, drop_last=True)"
   ]
  },
  {
   "cell_type": "markdown",
   "metadata": {},
   "source": [
    "# Train the autoencoder"
   ]
  },
  {
   "cell_type": "code",
   "execution_count": null,
   "metadata": {},
   "outputs": [],
   "source": [
    "from torch import optim\n",
    "from src.plots import grid_plot, plot_reconstructed\n",
    "from torch.utils.tensorboard import SummaryWriter\n",
    "\n",
    "from src.masked_autoencoder import MaskedAutoencoder\n",
    "\n",
    "\n",
    "net = MaskedAutoencoder(\n",
    "    img_size=IMAGE_SIZE,\n",
    "    patch_size=PATCH_SIZE,\n",
    "    in_chans=IN_CHANS,\n",
    "    encoder_embed_dim=ENCODER_EMBED_DIM,\n",
    "    encoder_num_heads=ENCODER_NUM_HEADS,\n",
    "    encoder_depth=ENCODER_DEPTH,\n",
    "    decoder_embed_dim=DECODER_EMBED_DIM,\n",
    "    decoder_num_heads=DECODR_NUM_HEADS,\n",
    "    decoder_depth=DECODER_DEPTH,\n",
    ")\n",
    "\n",
    "optimizer = optim.AdamW(net.parameters(), lr=LR, betas=BETAS)\n",
    "scheduler = optim.lr_scheduler.LinearLR(optimizer, start_factor=1.0, end_factor=0.5, total_iters=10)\n",
    "\n",
    "scheduler = optim.lr_scheduler.StepLR(optimizer, step_size=50, gamma=0.1)\n",
    "\n",
    "# Set optimization scheduler\n",
    "# total_steps = int((len(train_dataloader) / batch_size) * num_epochs)\n",
    "# warmup_epoch_percentage = 0.15\n",
    "# warmup_steps = int(total_steps * warmup_epoch_percentage)\n",
    "# warmup_steps\n",
    "\n",
    "# scheduler = optim.lr_scheduler.CosineAnnealingWarmRestarts(optimizer, warmup_steps)\n",
    "\n",
    "\n",
    "device = torch.device('cuda' if torch.cuda.is_available() else 'cpu')\n",
    "net.to(device)\n",
    "\n",
    "log_writer = SummaryWriter()\n",
    "\n",
    "net.train()\n",
    "step = 1\n",
    "for epoch in range(NUM_EPOCHS):\n",
    "    for image_batch, _ in train_dataloader:\n",
    "        image_batch = image_batch.to(device)\n",
    "        optimizer.zero_grad()\n",
    "        loss, pred, mask = net(image_batch)\n",
    "        loss.backward()\n",
    "        optimizer.step()\n",
    "        \n",
    "        log_writer.add_scalar(\"Loss/train\", loss.item(), step)\n",
    "        \n",
    "        # if step % 20 == 0:\n",
    "        step += 1\n",
    "    \n",
    "    scheduler.step()\n",
    "    \n",
    "    print(epoch)\n",
    "    \n",
    "    reconstructed = net.unpatchify(pred)\n",
    "    plot_reconstructed(image_batch, reconstructed)\n",
    "    grid = grid_plot(image_batch, reconstructed)\n",
    "    log_writer.add_image('Original vs Reconstructed', grid, step)\n",
    "\n",
    "\n",
    "# log_writer.add_graph(net, batch)\n",
    "log_writer.close()"
   ]
  },
  {
   "cell_type": "code",
   "execution_count": null,
   "metadata": {},
   "outputs": [],
   "source": [
    "# # evaluate accuracy after training\n",
    "# model.eval()\n",
    "# y_pred = model(X_test)\n",
    "# acc = (y_pred.round() == y_test).float().mean()\n",
    "# acc = float(acc)\n",
    "# print(\"Model accuracy: %.2f%%\" % (acc*100))"
   ]
  },
  {
   "cell_type": "code",
   "execution_count": 11,
   "metadata": {},
   "outputs": [
    {
     "name": "stderr",
     "output_type": "stream",
     "text": [
      "UsageError: Line magic function `%tensorboard` not found.\n"
     ]
    }
   ],
   "source": [
    "# %tensorboard --logdir runs/"
   ]
  }
 ],
 "metadata": {
  "kernelspec": {
   "display_name": ".venv",
   "language": "python",
   "name": "python3"
  },
  "language_info": {
   "codemirror_mode": {
    "name": "ipython",
    "version": 3
   },
   "file_extension": ".py",
   "mimetype": "text/x-python",
   "name": "python",
   "nbconvert_exporter": "python",
   "pygments_lexer": "ipython3",
   "version": "3.10.10"
  },
  "orig_nbformat": 4
 },
 "nbformat": 4,
 "nbformat_minor": 2
}
